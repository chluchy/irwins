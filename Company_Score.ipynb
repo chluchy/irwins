{
 "cells": [
  {
   "cell_type": "code",
   "execution_count": 1,
   "metadata": {},
   "outputs": [
    {
     "data": {
      "text/plain": [
       "['billable.csv',\n",
       " 'cec_data.csv',\n",
       " 'cec_data_tool_time.csv',\n",
       " 'company_score.csv',\n",
       " 'islam_data.csv',\n",
       " 'islam_data2.csv',\n",
       " 'rfid_simulation.csv',\n",
       " 'workers.csv',\n",
       " 'work_coverage.csv']"
      ]
     },
     "execution_count": 1,
     "metadata": {},
     "output_type": "execute_result"
    }
   ],
   "source": [
    "import pandas as pd\n",
    "import numpy as np\n",
    "import os\n",
    "import datetime\n",
    "import random\n",
    "%config IPCompleter.greedy=True\n",
    "os.listdir(\"C:\\\\Users\\\\chris\\\\OneDrive - Irwin's Safety and Industrial Labour Services Ltd\\\\Irwins\\\\output\\\\simulation\")"
   ]
  },
  {
   "cell_type": "code",
   "execution_count": 2,
   "metadata": {},
   "outputs": [],
   "source": [
    "path = \"C:\\\\Users\\\\chris\\\\OneDrive - Irwin's Safety and Industrial Labour Services Ltd\\\\Irwins\\\\output\\\\simulation\""
   ]
  },
  {
   "cell_type": "code",
   "execution_count": 3,
   "metadata": {},
   "outputs": [],
   "source": [
    "workers = pd.read_csv(path+\"\\\\workers.csv\")\n",
    "events = pd.read_csv(path+\"\\\\rfid_simulation.csv\",parse_dates=['TimeIn','TimeOut'])\n",
    "cec_2018 = pd.read_csv(path+\"\\\\cec_data.csv\",\n",
    "                       parse_dates=['clean_date','start_time','stop_time','work_start'])"
   ]
  },
  {
   "cell_type": "code",
   "execution_count": 4,
   "metadata": {},
   "outputs": [
    {
     "data": {
      "text/html": [
       "<div>\n",
       "<style scoped>\n",
       "    .dataframe tbody tr th:only-of-type {\n",
       "        vertical-align: middle;\n",
       "    }\n",
       "\n",
       "    .dataframe tbody tr th {\n",
       "        vertical-align: top;\n",
       "    }\n",
       "\n",
       "    .dataframe thead th {\n",
       "        text-align: right;\n",
       "    }\n",
       "</style>\n",
       "<table border=\"1\" class=\"dataframe\">\n",
       "  <thead>\n",
       "    <tr style=\"text-align: right;\">\n",
       "      <th></th>\n",
       "      <th>index_id</th>\n",
       "      <th>csas_id</th>\n",
       "      <th>clean_date</th>\n",
       "      <th>entry_name</th>\n",
       "      <th>shift</th>\n",
       "      <th>crew_size</th>\n",
       "      <th>duration</th>\n",
       "      <th>facility_owner</th>\n",
       "      <th>proj_name</th>\n",
       "      <th>proj_year</th>\n",
       "      <th>...</th>\n",
       "      <th>vessel_clean</th>\n",
       "      <th>vessel_entry</th>\n",
       "      <th>eventid</th>\n",
       "      <th>WorkerId</th>\n",
       "      <th>TimeIn</th>\n",
       "      <th>TimeOut</th>\n",
       "      <th>workerid</th>\n",
       "      <th>FirstName</th>\n",
       "      <th>LastName</th>\n",
       "      <th>Company</th>\n",
       "    </tr>\n",
       "  </thead>\n",
       "  <tbody>\n",
       "    <tr>\n",
       "      <th>0</th>\n",
       "      <td>19910</td>\n",
       "      <td>9363945241</td>\n",
       "      <td>2018-05-26</td>\n",
       "      <td>Door 51</td>\n",
       "      <td>Night</td>\n",
       "      <td>2.0</td>\n",
       "      <td>1.833333</td>\n",
       "      <td>Enmax</td>\n",
       "      <td>Calgary Energy Centre</td>\n",
       "      <td>2018</td>\n",
       "      <td>...</td>\n",
       "      <td>CT Generator</td>\n",
       "      <td>CT Generator: Door 51</td>\n",
       "      <td>NaN</td>\n",
       "      <td>NaN</td>\n",
       "      <td>NaT</td>\n",
       "      <td>NaT</td>\n",
       "      <td>NaN</td>\n",
       "      <td>NaN</td>\n",
       "      <td>NaN</td>\n",
       "      <td>NaN</td>\n",
       "    </tr>\n",
       "    <tr>\n",
       "      <th>1</th>\n",
       "      <td>19911</td>\n",
       "      <td>9363945241</td>\n",
       "      <td>2018-05-26</td>\n",
       "      <td>Door 51</td>\n",
       "      <td>Night</td>\n",
       "      <td>2.0</td>\n",
       "      <td>0.050000</td>\n",
       "      <td>Enmax</td>\n",
       "      <td>Calgary Energy Centre</td>\n",
       "      <td>2018</td>\n",
       "      <td>...</td>\n",
       "      <td>CT Generator</td>\n",
       "      <td>CT Generator: Door 51</td>\n",
       "      <td>NaN</td>\n",
       "      <td>NaN</td>\n",
       "      <td>NaT</td>\n",
       "      <td>NaT</td>\n",
       "      <td>NaN</td>\n",
       "      <td>NaN</td>\n",
       "      <td>NaN</td>\n",
       "      <td>NaN</td>\n",
       "    </tr>\n",
       "    <tr>\n",
       "      <th>2</th>\n",
       "      <td>19912</td>\n",
       "      <td>9363945241</td>\n",
       "      <td>2018-05-26</td>\n",
       "      <td>Door 51</td>\n",
       "      <td>Night</td>\n",
       "      <td>2.0</td>\n",
       "      <td>0.050000</td>\n",
       "      <td>Enmax</td>\n",
       "      <td>Calgary Energy Centre</td>\n",
       "      <td>2018</td>\n",
       "      <td>...</td>\n",
       "      <td>CT Generator</td>\n",
       "      <td>CT Generator: Door 51</td>\n",
       "      <td>NaN</td>\n",
       "      <td>NaN</td>\n",
       "      <td>NaT</td>\n",
       "      <td>NaT</td>\n",
       "      <td>NaN</td>\n",
       "      <td>NaN</td>\n",
       "      <td>NaN</td>\n",
       "      <td>NaN</td>\n",
       "    </tr>\n",
       "    <tr>\n",
       "      <th>3</th>\n",
       "      <td>19913</td>\n",
       "      <td>9363945241</td>\n",
       "      <td>2018-05-26</td>\n",
       "      <td>Door 51</td>\n",
       "      <td>Night</td>\n",
       "      <td>2.0</td>\n",
       "      <td>1.066667</td>\n",
       "      <td>Enmax</td>\n",
       "      <td>Calgary Energy Centre</td>\n",
       "      <td>2018</td>\n",
       "      <td>...</td>\n",
       "      <td>CT Generator</td>\n",
       "      <td>CT Generator: Door 51</td>\n",
       "      <td>0.0</td>\n",
       "      <td>0.0</td>\n",
       "      <td>2018-05-26 20:26:00</td>\n",
       "      <td>2018-05-26 21:30:00</td>\n",
       "      <td>0.0</td>\n",
       "      <td>Brian</td>\n",
       "      <td>Mage</td>\n",
       "      <td>MillwrightCorp1</td>\n",
       "    </tr>\n",
       "    <tr>\n",
       "      <th>4</th>\n",
       "      <td>19914</td>\n",
       "      <td>9363945241</td>\n",
       "      <td>2018-05-26</td>\n",
       "      <td>Door 51</td>\n",
       "      <td>Night</td>\n",
       "      <td>2.0</td>\n",
       "      <td>0.000000</td>\n",
       "      <td>Enmax</td>\n",
       "      <td>Calgary Energy Centre</td>\n",
       "      <td>2018</td>\n",
       "      <td>...</td>\n",
       "      <td>CT Generator</td>\n",
       "      <td>CT Generator: Door 51</td>\n",
       "      <td>NaN</td>\n",
       "      <td>NaN</td>\n",
       "      <td>NaT</td>\n",
       "      <td>NaT</td>\n",
       "      <td>NaN</td>\n",
       "      <td>NaN</td>\n",
       "      <td>NaN</td>\n",
       "      <td>NaN</td>\n",
       "    </tr>\n",
       "  </tbody>\n",
       "</table>\n",
       "<p>5 rows × 40 columns</p>\n",
       "</div>"
      ],
      "text/plain": [
       "   index_id     csas_id clean_date entry_name  shift  crew_size  duration  \\\n",
       "0     19910  9363945241 2018-05-26    Door 51  Night        2.0  1.833333   \n",
       "1     19911  9363945241 2018-05-26    Door 51  Night        2.0  0.050000   \n",
       "2     19912  9363945241 2018-05-26    Door 51  Night        2.0  0.050000   \n",
       "3     19913  9363945241 2018-05-26    Door 51  Night        2.0  1.066667   \n",
       "4     19914  9363945241 2018-05-26    Door 51  Night        2.0  0.000000   \n",
       "\n",
       "  facility_owner              proj_name  proj_year  ...  vessel_clean  \\\n",
       "0          Enmax  Calgary Energy Centre       2018  ...  CT Generator   \n",
       "1          Enmax  Calgary Energy Centre       2018  ...  CT Generator   \n",
       "2          Enmax  Calgary Energy Centre       2018  ...  CT Generator   \n",
       "3          Enmax  Calgary Energy Centre       2018  ...  CT Generator   \n",
       "4          Enmax  Calgary Energy Centre       2018  ...  CT Generator   \n",
       "\n",
       "            vessel_entry eventid  WorkerId              TimeIn  \\\n",
       "0  CT Generator: Door 51     NaN       NaN                 NaT   \n",
       "1  CT Generator: Door 51     NaN       NaN                 NaT   \n",
       "2  CT Generator: Door 51     NaN       NaN                 NaT   \n",
       "3  CT Generator: Door 51     0.0       0.0 2018-05-26 20:26:00   \n",
       "4  CT Generator: Door 51     NaN       NaN                 NaT   \n",
       "\n",
       "              TimeOut workerid  FirstName LastName          Company  \n",
       "0                 NaT      NaN        NaN      NaN              NaN  \n",
       "1                 NaT      NaN        NaN      NaN              NaN  \n",
       "2                 NaT      NaN        NaN      NaN              NaN  \n",
       "3 2018-05-26 21:30:00      0.0      Brian     Mage  MillwrightCorp1  \n",
       "4                 NaT      NaN        NaN      NaN              NaN  \n",
       "\n",
       "[5 rows x 40 columns]"
      ]
     },
     "execution_count": 4,
     "metadata": {},
     "output_type": "execute_result"
    }
   ],
   "source": [
    "company_score = cec_2018.merge(events.merge(workers, left_on='WorkerId',right_on='workerid',how='left'),\n",
    "                          left_on='index_id',right_on='index_id',how='left')\n",
    "company_score.head()"
   ]
  },
  {
   "cell_type": "code",
   "execution_count": 5,
   "metadata": {},
   "outputs": [
    {
     "data": {
      "text/plain": [
       "Company       csas_id   \n",
       "LaborerCorp   16064865      1.816944\n",
       "              47431840      4.052222\n",
       "              125163869     2.038611\n",
       "              233096537     0.398056\n",
       "              441867932     3.739167\n",
       "                              ...   \n",
       "WeldingCorp2  9038020707    5.480556\n",
       "              9072517040    1.129444\n",
       "              9126734721    3.627778\n",
       "              9389266951    8.659444\n",
       "              9901183446    1.598056\n",
       "Name: worked_hours, Length: 282, dtype: float64"
      ]
     },
     "execution_count": 5,
     "metadata": {},
     "output_type": "execute_result"
    }
   ],
   "source": [
    "company_score['worked_hours'] = ((company_score.TimeOut-company_score.TimeIn).\n",
    "                                 astype('timedelta64[s]')/3600)\n",
    "company_score.groupby(['Company','csas_id'])['worked_hours'].sum()"
   ]
  },
  {
   "cell_type": "code",
   "execution_count": 6,
   "metadata": {},
   "outputs": [
    {
     "data": {
      "text/html": [
       "<div>\n",
       "<style scoped>\n",
       "    .dataframe tbody tr th:only-of-type {\n",
       "        vertical-align: middle;\n",
       "    }\n",
       "\n",
       "    .dataframe tbody tr th {\n",
       "        vertical-align: top;\n",
       "    }\n",
       "\n",
       "    .dataframe thead th {\n",
       "        text-align: right;\n",
       "    }\n",
       "</style>\n",
       "<table border=\"1\" class=\"dataframe\">\n",
       "  <thead>\n",
       "    <tr style=\"text-align: right;\">\n",
       "      <th>code_phase</th>\n",
       "      <th>down_time</th>\n",
       "      <th>idle_time</th>\n",
       "      <th>nonwork_time</th>\n",
       "      <th>tool_time</th>\n",
       "      <th>wait_time</th>\n",
       "      <th>tool_time_pct</th>\n",
       "    </tr>\n",
       "    <tr>\n",
       "      <th>csas_id</th>\n",
       "      <th></th>\n",
       "      <th></th>\n",
       "      <th></th>\n",
       "      <th></th>\n",
       "      <th></th>\n",
       "      <th></th>\n",
       "    </tr>\n",
       "  </thead>\n",
       "  <tbody>\n",
       "    <tr>\n",
       "      <th>16064865</th>\n",
       "      <td>0.816667</td>\n",
       "      <td>1.283333</td>\n",
       "      <td>NaN</td>\n",
       "      <td>2.300000</td>\n",
       "      <td>0.066667</td>\n",
       "      <td>0.514925</td>\n",
       "    </tr>\n",
       "    <tr>\n",
       "      <th>47431840</th>\n",
       "      <td>0.250000</td>\n",
       "      <td>0.116667</td>\n",
       "      <td>4.750000</td>\n",
       "      <td>4.283333</td>\n",
       "      <td>0.100000</td>\n",
       "      <td>0.450877</td>\n",
       "    </tr>\n",
       "    <tr>\n",
       "      <th>125163869</th>\n",
       "      <td>1.116667</td>\n",
       "      <td>0.233333</td>\n",
       "      <td>NaN</td>\n",
       "      <td>7.633333</td>\n",
       "      <td>0.150000</td>\n",
       "      <td>0.835766</td>\n",
       "    </tr>\n",
       "    <tr>\n",
       "      <th>233096537</th>\n",
       "      <td>4.166667</td>\n",
       "      <td>0.066667</td>\n",
       "      <td>NaN</td>\n",
       "      <td>3.850000</td>\n",
       "      <td>0.100000</td>\n",
       "      <td>0.470468</td>\n",
       "    </tr>\n",
       "    <tr>\n",
       "      <th>389701276</th>\n",
       "      <td>1.000000</td>\n",
       "      <td>0.016667</td>\n",
       "      <td>0.416667</td>\n",
       "      <td>8.700000</td>\n",
       "      <td>0.233333</td>\n",
       "      <td>0.839228</td>\n",
       "    </tr>\n",
       "  </tbody>\n",
       "</table>\n",
       "</div>"
      ],
      "text/plain": [
       "code_phase  down_time  idle_time  nonwork_time  tool_time  wait_time  \\\n",
       "csas_id                                                                \n",
       "16064865     0.816667   1.283333           NaN   2.300000   0.066667   \n",
       "47431840     0.250000   0.116667      4.750000   4.283333   0.100000   \n",
       "125163869    1.116667   0.233333           NaN   7.633333   0.150000   \n",
       "233096537    4.166667   0.066667           NaN   3.850000   0.100000   \n",
       "389701276    1.000000   0.016667      0.416667   8.700000   0.233333   \n",
       "\n",
       "code_phase  tool_time_pct  \n",
       "csas_id                    \n",
       "16064865         0.514925  \n",
       "47431840         0.450877  \n",
       "125163869        0.835766  \n",
       "233096537        0.470468  \n",
       "389701276        0.839228  "
      ]
     },
     "execution_count": 6,
     "metadata": {},
     "output_type": "execute_result"
    }
   ],
   "source": [
    "workarea_tooltime = (cec_2018[pd.notnull(cec_2018['code_phase'])].\n",
    "                          pivot_table(values='duration',index=['csas_id'],columns='code_phase',\n",
    "                                      aggfunc='sum'))\n",
    "workarea_tooltime['tool_time_pct'] = (workarea_tooltime['tool_time']/\n",
    "                                  workarea_tooltime.iloc[:,0:5].sum(axis=1))\n",
    "workarea_tooltime.head()"
   ]
  },
  {
   "cell_type": "code",
   "execution_count": 7,
   "metadata": {},
   "outputs": [
    {
     "data": {
      "text/plain": [
       "Index(['down_time', 'idle_time', 'nonwork_time', 'tool_time', 'wait_time',\n",
       "       'tool_time_pct'],\n",
       "      dtype='object', name='code_phase')"
      ]
     },
     "execution_count": 7,
     "metadata": {},
     "output_type": "execute_result"
    }
   ],
   "source": [
    "workarea_tooltime.columns"
   ]
  },
  {
   "cell_type": "code",
   "execution_count": 8,
   "metadata": {},
   "outputs": [],
   "source": [
    "company_score = company_score.merge(workarea_tooltime['tool_time_pct'],left_on='csas_id',right_on='csas_id',how='left')"
   ]
  },
  {
   "cell_type": "code",
   "execution_count": 9,
   "metadata": {},
   "outputs": [],
   "source": [
    "company_score[['index_id','Company','worked_hours','tool_time_pct']].to_csv(path+\"\\\\company_score.csv\")"
   ]
  },
  {
   "cell_type": "code",
   "execution_count": 10,
   "metadata": {},
   "outputs": [],
   "source": [
    "billable = company_score.groupby(['Company','clean_date','work_order'])['worked_hours'].sum().reset_index()"
   ]
  },
  {
   "cell_type": "code",
   "execution_count": 11,
   "metadata": {},
   "outputs": [],
   "source": [
    "def get_billable(row):\n",
    "    if (row['Company'] == 'LaborerCorp' or row['Company'] == 'MillwrightCorp1'):\n",
    "        billable = row['worked_hours']*(1.1+.3*random.random())\n",
    "    elif row['Company'] == 'WeldingCorp2':\n",
    "        billable = row['worked_hours']*(1.34+.3*random.random())\n",
    "    else:\n",
    "        billable = row['worked_hours']*(1.2+.5*random.random())\n",
    "    return billable"
   ]
  },
  {
   "cell_type": "code",
   "execution_count": 12,
   "metadata": {},
   "outputs": [],
   "source": [
    "billable['billed_hours'] = billable.apply(get_billable,axis=1)"
   ]
  },
  {
   "cell_type": "code",
   "execution_count": 13,
   "metadata": {},
   "outputs": [
    {
     "data": {
      "text/plain": [
       "array(['LaborerCorp', 'MillwrightCorp1', 'MillwrightCorp2',\n",
       "       'WeldingCorp1', 'WeldingCorp2'], dtype=object)"
      ]
     },
     "execution_count": 13,
     "metadata": {},
     "output_type": "execute_result"
    }
   ],
   "source": [
    "billable['Company'].unique()"
   ]
  },
  {
   "cell_type": "code",
   "execution_count": 14,
   "metadata": {},
   "outputs": [
    {
     "data": {
      "text/html": [
       "<div>\n",
       "<style scoped>\n",
       "    .dataframe tbody tr th:only-of-type {\n",
       "        vertical-align: middle;\n",
       "    }\n",
       "\n",
       "    .dataframe tbody tr th {\n",
       "        vertical-align: top;\n",
       "    }\n",
       "\n",
       "    .dataframe thead th {\n",
       "        text-align: right;\n",
       "    }\n",
       "</style>\n",
       "<table border=\"1\" class=\"dataframe\">\n",
       "  <thead>\n",
       "    <tr style=\"text-align: right;\">\n",
       "      <th></th>\n",
       "      <th>Company</th>\n",
       "      <th>clean_date</th>\n",
       "      <th>work_order</th>\n",
       "      <th>worked_hours</th>\n",
       "      <th>billed_hours</th>\n",
       "    </tr>\n",
       "  </thead>\n",
       "  <tbody>\n",
       "    <tr>\n",
       "      <th>0</th>\n",
       "      <td>LaborerCorp</td>\n",
       "      <td>2018-05-26</td>\n",
       "      <td>21129601</td>\n",
       "      <td>1.000000</td>\n",
       "      <td>1.191840</td>\n",
       "    </tr>\n",
       "    <tr>\n",
       "      <th>1</th>\n",
       "      <td>LaborerCorp</td>\n",
       "      <td>2018-05-27</td>\n",
       "      <td>21129601</td>\n",
       "      <td>1.279444</td>\n",
       "      <td>1.661423</td>\n",
       "    </tr>\n",
       "    <tr>\n",
       "      <th>2</th>\n",
       "      <td>LaborerCorp</td>\n",
       "      <td>2018-05-28</td>\n",
       "      <td>21122364</td>\n",
       "      <td>1.202222</td>\n",
       "      <td>1.481307</td>\n",
       "    </tr>\n",
       "    <tr>\n",
       "      <th>3</th>\n",
       "      <td>LaborerCorp</td>\n",
       "      <td>2018-05-29</td>\n",
       "      <td>21098749</td>\n",
       "      <td>1.616667</td>\n",
       "      <td>1.829609</td>\n",
       "    </tr>\n",
       "    <tr>\n",
       "      <th>4</th>\n",
       "      <td>LaborerCorp</td>\n",
       "      <td>2018-05-29</td>\n",
       "      <td>21122364</td>\n",
       "      <td>1.373889</td>\n",
       "      <td>1.729566</td>\n",
       "    </tr>\n",
       "  </tbody>\n",
       "</table>\n",
       "</div>"
      ],
      "text/plain": [
       "       Company clean_date  work_order  worked_hours  billed_hours\n",
       "0  LaborerCorp 2018-05-26    21129601      1.000000      1.191840\n",
       "1  LaborerCorp 2018-05-27    21129601      1.279444      1.661423\n",
       "2  LaborerCorp 2018-05-28    21122364      1.202222      1.481307\n",
       "3  LaborerCorp 2018-05-29    21098749      1.616667      1.829609\n",
       "4  LaborerCorp 2018-05-29    21122364      1.373889      1.729566"
      ]
     },
     "execution_count": 14,
     "metadata": {},
     "output_type": "execute_result"
    }
   ],
   "source": [
    "billable.head()"
   ]
  },
  {
   "cell_type": "code",
   "execution_count": 15,
   "metadata": {},
   "outputs": [],
   "source": [
    "billable.to_csv(path+\"\\\\billable.csv\")"
   ]
  },
  {
   "cell_type": "code",
   "execution_count": null,
   "metadata": {},
   "outputs": [],
   "source": []
  }
 ],
 "metadata": {
  "kernelspec": {
   "display_name": "Python 3",
   "language": "python",
   "name": "python3"
  },
  "language_info": {
   "codemirror_mode": {
    "name": "ipython",
    "version": 3
   },
   "file_extension": ".py",
   "mimetype": "text/x-python",
   "name": "python",
   "nbconvert_exporter": "python",
   "pygments_lexer": "ipython3",
   "version": "3.7.7"
  },
  "toc": {
   "base_numbering": 1,
   "nav_menu": {},
   "number_sections": true,
   "sideBar": true,
   "skip_h1_title": false,
   "title_cell": "Table of Contents",
   "title_sidebar": "Contents",
   "toc_cell": false,
   "toc_position": {},
   "toc_section_display": true,
   "toc_window_display": false
  }
 },
 "nbformat": 4,
 "nbformat_minor": 4
}
