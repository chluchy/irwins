{
 "cells": [
  {
   "cell_type": "code",
   "execution_count": 31,
   "metadata": {},
   "outputs": [],
   "source": [
    "import pandas as pd\n",
    "import numpy as np\n",
    "import os\n",
    "import matplotlib.pyplot as plt\n",
    "import seaborn as sns\n",
    "from sklearn.preprocessing import StandardScaler"
   ]
  },
  {
   "cell_type": "code",
   "execution_count": 6,
   "metadata": {},
   "outputs": [
    {
     "data": {
      "text/plain": [
       "\"C:\\\\Users\\\\chris\\\\OneDrive - Irwin's Safety and Industrial Labour Services Ltd\\\\Irwins\\\\python_scripts\""
      ]
     },
     "execution_count": 6,
     "metadata": {},
     "output_type": "execute_result"
    }
   ],
   "source": [
    "os.getcwd()"
   ]
  },
  {
   "cell_type": "code",
   "execution_count": 7,
   "metadata": {},
   "outputs": [],
   "source": [
    "path = \"C:\\\\Users\\\\chris\\\\OneDrive - Irwin's Safety and Industrial Labour Services Ltd\\\\Irwins\\\\output\""
   ]
  },
  {
   "cell_type": "code",
   "execution_count": 8,
   "metadata": {},
   "outputs": [
    {
     "data": {
      "text/plain": [
       "['.ipynb_checkpoints',\n",
       " '2013_2016.csv',\n",
       " 'cec_2018.csv',\n",
       " 'daily.csv',\n",
       " 'joffre_2018.csv',\n",
       " 'SB_analysis.csv',\n",
       " 'SB_Histograms.xlsx',\n",
       " 'sheerness_2017.csv',\n",
       " 'shep_2018.csv',\n",
       " 'TA_database.csv',\n",
       " 'TimeVsCode.xlsx',\n",
       " '~$TimeVsCode.xlsx']"
      ]
     },
     "execution_count": 8,
     "metadata": {},
     "output_type": "execute_result"
    }
   ],
   "source": [
    "os.listdir(path)"
   ]
  },
  {
   "cell_type": "code",
   "execution_count": 10,
   "metadata": {},
   "outputs": [
    {
     "data": {
      "text/html": [
       "<div>\n",
       "<style scoped>\n",
       "    .dataframe tbody tr th:only-of-type {\n",
       "        vertical-align: middle;\n",
       "    }\n",
       "\n",
       "    .dataframe tbody tr th {\n",
       "        vertical-align: top;\n",
       "    }\n",
       "\n",
       "    .dataframe thead th {\n",
       "        text-align: right;\n",
       "    }\n",
       "</style>\n",
       "<table border=\"1\" class=\"dataframe\">\n",
       "  <thead>\n",
       "    <tr style=\"text-align: right;\">\n",
       "      <th></th>\n",
       "      <th>csas_id</th>\n",
       "      <th>clean_date</th>\n",
       "      <th>TA_id</th>\n",
       "      <th>Number of Crews</th>\n",
       "      <th>days_from_start</th>\n",
       "      <th>csa_count</th>\n",
       "      <th>down_time</th>\n",
       "      <th>idle_time</th>\n",
       "      <th>nonwork_time</th>\n",
       "      <th>tool_time</th>\n",
       "      <th>wait_time</th>\n",
       "      <th>not working</th>\n",
       "      <th>working</th>\n",
       "      <th>PostStart</th>\n",
       "      <th>PreStart</th>\n",
       "      <th>total_time</th>\n",
       "      <th>tool_time_pct</th>\n",
       "      <th>pre_start_pct</th>\n",
       "    </tr>\n",
       "  </thead>\n",
       "  <tbody>\n",
       "    <tr>\n",
       "      <th>0</th>\n",
       "      <td>7768548</td>\n",
       "      <td>2017-11-26</td>\n",
       "      <td>Sheerness_2017</td>\n",
       "      <td>4.0</td>\n",
       "      <td>11</td>\n",
       "      <td>35</td>\n",
       "      <td>0.0</td>\n",
       "      <td>0.716667</td>\n",
       "      <td>0.416667</td>\n",
       "      <td>7.266667</td>\n",
       "      <td>0.000000</td>\n",
       "      <td>1.133333</td>\n",
       "      <td>7.266667</td>\n",
       "      <td>0.633333</td>\n",
       "      <td>0.500000</td>\n",
       "      <td>8.400000</td>\n",
       "      <td>0.865079</td>\n",
       "      <td>0.441176</td>\n",
       "    </tr>\n",
       "    <tr>\n",
       "      <th>1</th>\n",
       "      <td>13131247</td>\n",
       "      <td>2018-06-11</td>\n",
       "      <td>Calgary Energy Centre_2018</td>\n",
       "      <td>2.0</td>\n",
       "      <td>16</td>\n",
       "      <td>8</td>\n",
       "      <td>0.0</td>\n",
       "      <td>0.733333</td>\n",
       "      <td>0.000000</td>\n",
       "      <td>1.166667</td>\n",
       "      <td>0.100000</td>\n",
       "      <td>0.833333</td>\n",
       "      <td>1.166667</td>\n",
       "      <td>0.583333</td>\n",
       "      <td>0.250000</td>\n",
       "      <td>2.000000</td>\n",
       "      <td>0.583333</td>\n",
       "      <td>0.300000</td>\n",
       "    </tr>\n",
       "    <tr>\n",
       "      <th>2</th>\n",
       "      <td>30978424</td>\n",
       "      <td>2018-03-11</td>\n",
       "      <td>Joffre_2018</td>\n",
       "      <td>10.0</td>\n",
       "      <td>8</td>\n",
       "      <td>5</td>\n",
       "      <td>0.0</td>\n",
       "      <td>0.716667</td>\n",
       "      <td>3.083333</td>\n",
       "      <td>4.700000</td>\n",
       "      <td>0.000000</td>\n",
       "      <td>3.800000</td>\n",
       "      <td>4.700000</td>\n",
       "      <td>3.366667</td>\n",
       "      <td>0.433333</td>\n",
       "      <td>8.500000</td>\n",
       "      <td>0.552941</td>\n",
       "      <td>0.114035</td>\n",
       "    </tr>\n",
       "    <tr>\n",
       "      <th>3</th>\n",
       "      <td>54396071</td>\n",
       "      <td>2017-11-23</td>\n",
       "      <td>Sheerness_2017</td>\n",
       "      <td>4.0</td>\n",
       "      <td>8</td>\n",
       "      <td>38</td>\n",
       "      <td>0.0</td>\n",
       "      <td>1.266667</td>\n",
       "      <td>0.083333</td>\n",
       "      <td>6.716667</td>\n",
       "      <td>0.000000</td>\n",
       "      <td>1.350000</td>\n",
       "      <td>6.716667</td>\n",
       "      <td>1.066667</td>\n",
       "      <td>0.283333</td>\n",
       "      <td>8.066667</td>\n",
       "      <td>0.832645</td>\n",
       "      <td>0.209877</td>\n",
       "    </tr>\n",
       "    <tr>\n",
       "      <th>4</th>\n",
       "      <td>55173638</td>\n",
       "      <td>2017-11-22</td>\n",
       "      <td>Sheerness_2017</td>\n",
       "      <td>1.0</td>\n",
       "      <td>7</td>\n",
       "      <td>34</td>\n",
       "      <td>0.0</td>\n",
       "      <td>0.266667</td>\n",
       "      <td>0.116667</td>\n",
       "      <td>4.266667</td>\n",
       "      <td>0.033333</td>\n",
       "      <td>0.416667</td>\n",
       "      <td>4.266667</td>\n",
       "      <td>0.333333</td>\n",
       "      <td>0.083333</td>\n",
       "      <td>4.683333</td>\n",
       "      <td>0.911032</td>\n",
       "      <td>0.200000</td>\n",
       "    </tr>\n",
       "  </tbody>\n",
       "</table>\n",
       "</div>"
      ],
      "text/plain": [
       "    csas_id  clean_date                       TA_id  Number of Crews  \\\n",
       "0   7768548  2017-11-26              Sheerness_2017              4.0   \n",
       "1  13131247  2018-06-11  Calgary Energy Centre_2018              2.0   \n",
       "2  30978424  2018-03-11                 Joffre_2018             10.0   \n",
       "3  54396071  2017-11-23              Sheerness_2017              4.0   \n",
       "4  55173638  2017-11-22              Sheerness_2017              1.0   \n",
       "\n",
       "   days_from_start  csa_count  down_time  idle_time  nonwork_time  tool_time  \\\n",
       "0               11         35        0.0   0.716667      0.416667   7.266667   \n",
       "1               16          8        0.0   0.733333      0.000000   1.166667   \n",
       "2                8          5        0.0   0.716667      3.083333   4.700000   \n",
       "3                8         38        0.0   1.266667      0.083333   6.716667   \n",
       "4                7         34        0.0   0.266667      0.116667   4.266667   \n",
       "\n",
       "   wait_time  not working   working  PostStart  PreStart  total_time  \\\n",
       "0   0.000000     1.133333  7.266667   0.633333  0.500000    8.400000   \n",
       "1   0.100000     0.833333  1.166667   0.583333  0.250000    2.000000   \n",
       "2   0.000000     3.800000  4.700000   3.366667  0.433333    8.500000   \n",
       "3   0.000000     1.350000  6.716667   1.066667  0.283333    8.066667   \n",
       "4   0.033333     0.416667  4.266667   0.333333  0.083333    4.683333   \n",
       "\n",
       "   tool_time_pct  pre_start_pct  \n",
       "0       0.865079       0.441176  \n",
       "1       0.583333       0.300000  \n",
       "2       0.552941       0.114035  \n",
       "3       0.832645       0.209877  \n",
       "4       0.911032       0.200000  "
      ]
     },
     "execution_count": 10,
     "metadata": {},
     "output_type": "execute_result"
    }
   ],
   "source": [
    "alldata = pd.read_csv(path+'\\\\daily.csv')\n",
    "alldata.head()"
   ]
  },
  {
   "cell_type": "code",
   "execution_count": 39,
   "metadata": {},
   "outputs": [
    {
     "name": "stdout",
     "output_type": "stream",
     "text": [
      "<class 'pandas.core.frame.DataFrame'>\n",
      "RangeIndex: 799 entries, 0 to 798\n",
      "Data columns (total 6 columns):\n",
      " #   Column           Non-Null Count  Dtype  \n",
      "---  ------           --------------  -----  \n",
      " 0   Number of Crews  799 non-null    float64\n",
      " 1   days_from_start  799 non-null    int64  \n",
      " 2   csa_count        799 non-null    int64  \n",
      " 3   pre_start_pct    799 non-null    float64\n",
      " 4   tool_time_pct    799 non-null    float64\n",
      " 5   tool_colour      799 non-null    object \n",
      "dtypes: float64(3), int64(2), object(1)\n",
      "memory usage: 37.6+ KB\n"
     ]
    },
    {
     "name": "stderr",
     "output_type": "stream",
     "text": [
      "C:\\Users\\chris\\Anaconda3\\lib\\site-packages\\ipykernel_launcher.py:2: SettingWithCopyWarning: \n",
      "A value is trying to be set on a copy of a slice from a DataFrame.\n",
      "Try using .loc[row_indexer,col_indexer] = value instead\n",
      "\n",
      "See the caveats in the documentation: https://pandas.pydata.org/pandas-docs/stable/user_guide/indexing.html#returning-a-view-versus-a-copy\n",
      "  \n"
     ]
    }
   ],
   "source": [
    "df = alldata[['Number of Crews','days_from_start','csa_count','pre_start_pct','tool_time_pct']]\n",
    "df['tool_colour']=np.where(df['tool_time_pct']>0.6,'above average','below average')\n",
    "df.info()"
   ]
  },
  {
   "cell_type": "code",
   "execution_count": 40,
   "metadata": {},
   "outputs": [],
   "source": [
    "features = ['Number of Crews','days_from_start','csa_count','pre_start_pct']\n",
    "target = ['tool_time_pct']\n",
    "x = df.loc[:,features].values\n",
    "y = df.loc[:,target].values\n",
    "x = StandardScaler().fit_transform(x)"
   ]
  },
  {
   "cell_type": "code",
   "execution_count": 41,
   "metadata": {},
   "outputs": [
    {
     "name": "stderr",
     "output_type": "stream",
     "text": [
      "C:\\Users\\chris\\Anaconda3\\lib\\site-packages\\ipykernel_launcher.py:4: SettingWithCopyWarning: \n",
      "A value is trying to be set on a copy of a slice from a DataFrame.\n",
      "Try using .loc[row_indexer,col_indexer] = value instead\n",
      "\n",
      "See the caveats in the documentation: https://pandas.pydata.org/pandas-docs/stable/user_guide/indexing.html#returning-a-view-versus-a-copy\n",
      "  after removing the cwd from sys.path.\n",
      "C:\\Users\\chris\\Anaconda3\\lib\\site-packages\\ipykernel_launcher.py:5: SettingWithCopyWarning: \n",
      "A value is trying to be set on a copy of a slice from a DataFrame.\n",
      "Try using .loc[row_indexer,col_indexer] = value instead\n",
      "\n",
      "See the caveats in the documentation: https://pandas.pydata.org/pandas-docs/stable/user_guide/indexing.html#returning-a-view-versus-a-copy\n",
      "  \"\"\"\n"
     ]
    },
    {
     "data": {
      "text/html": [
       "<div>\n",
       "<style scoped>\n",
       "    .dataframe tbody tr th:only-of-type {\n",
       "        vertical-align: middle;\n",
       "    }\n",
       "\n",
       "    .dataframe tbody tr th {\n",
       "        vertical-align: top;\n",
       "    }\n",
       "\n",
       "    .dataframe thead th {\n",
       "        text-align: right;\n",
       "    }\n",
       "</style>\n",
       "<table border=\"1\" class=\"dataframe\">\n",
       "  <thead>\n",
       "    <tr style=\"text-align: right;\">\n",
       "      <th></th>\n",
       "      <th>Number of Crews</th>\n",
       "      <th>days_from_start</th>\n",
       "      <th>csa_count</th>\n",
       "      <th>pre_start_pct</th>\n",
       "      <th>tool_time_pct</th>\n",
       "      <th>tool_colour</th>\n",
       "      <th>PCA1</th>\n",
       "      <th>PCA2</th>\n",
       "    </tr>\n",
       "  </thead>\n",
       "  <tbody>\n",
       "    <tr>\n",
       "      <th>0</th>\n",
       "      <td>4.0</td>\n",
       "      <td>11</td>\n",
       "      <td>35</td>\n",
       "      <td>0.441176</td>\n",
       "      <td>0.865079</td>\n",
       "      <td>above average</td>\n",
       "      <td>0.402745</td>\n",
       "      <td>-0.931285</td>\n",
       "    </tr>\n",
       "    <tr>\n",
       "      <th>1</th>\n",
       "      <td>2.0</td>\n",
       "      <td>16</td>\n",
       "      <td>8</td>\n",
       "      <td>0.300000</td>\n",
       "      <td>0.583333</td>\n",
       "      <td>below average</td>\n",
       "      <td>-1.038218</td>\n",
       "      <td>-1.717771</td>\n",
       "    </tr>\n",
       "    <tr>\n",
       "      <th>2</th>\n",
       "      <td>10.0</td>\n",
       "      <td>8</td>\n",
       "      <td>5</td>\n",
       "      <td>0.114035</td>\n",
       "      <td>0.552941</td>\n",
       "      <td>below average</td>\n",
       "      <td>0.047934</td>\n",
       "      <td>-0.116317</td>\n",
       "    </tr>\n",
       "    <tr>\n",
       "      <th>3</th>\n",
       "      <td>4.0</td>\n",
       "      <td>8</td>\n",
       "      <td>38</td>\n",
       "      <td>0.209877</td>\n",
       "      <td>0.832645</td>\n",
       "      <td>above average</td>\n",
       "      <td>1.111621</td>\n",
       "      <td>-0.756791</td>\n",
       "    </tr>\n",
       "    <tr>\n",
       "      <th>4</th>\n",
       "      <td>1.0</td>\n",
       "      <td>7</td>\n",
       "      <td>34</td>\n",
       "      <td>0.200000</td>\n",
       "      <td>0.911032</td>\n",
       "      <td>above average</td>\n",
       "      <td>0.821122</td>\n",
       "      <td>-0.727641</td>\n",
       "    </tr>\n",
       "  </tbody>\n",
       "</table>\n",
       "</div>"
      ],
      "text/plain": [
       "   Number of Crews  days_from_start  csa_count  pre_start_pct  tool_time_pct  \\\n",
       "0              4.0               11         35       0.441176       0.865079   \n",
       "1              2.0               16          8       0.300000       0.583333   \n",
       "2             10.0                8          5       0.114035       0.552941   \n",
       "3              4.0                8         38       0.209877       0.832645   \n",
       "4              1.0                7         34       0.200000       0.911032   \n",
       "\n",
       "     tool_colour      PCA1      PCA2  \n",
       "0  above average  0.402745 -0.931285  \n",
       "1  below average -1.038218 -1.717771  \n",
       "2  below average  0.047934 -0.116317  \n",
       "3  above average  1.111621 -0.756791  \n",
       "4  above average  0.821122 -0.727641  "
      ]
     },
     "execution_count": 41,
     "metadata": {},
     "output_type": "execute_result"
    }
   ],
   "source": [
    "from sklearn.decomposition import PCA\n",
    "model = PCA(n_components=2)\n",
    "pcs = model.fit_transform(x)\n",
    "df['PCA1'] = pcs[:,0]\n",
    "df['PCA2'] = pcs[:,1]\n",
    "df.head()"
   ]
  },
  {
   "cell_type": "code",
   "execution_count": 42,
   "metadata": {},
   "outputs": [
    {
     "data": {
      "text/plain": [
       "<seaborn.axisgrid.FacetGrid at 0x2434c625748>"
      ]
     },
     "execution_count": 42,
     "metadata": {},
     "output_type": "execute_result"
    },
    {
     "data": {
      "image/png": "[encoded data removed]",
      "text/plain": [
       "<Figure size 470.375x360 with 1 Axes>"
      ]
     },
     "metadata": {
      "needs_background": "light"
     },
     "output_type": "display_data"
    }
   ],
   "source": [
    "sns.lmplot(\"PCA1\",'PCA2',hue='tool_colour',data=df)"
   ]
  },
  {
   "cell_type": "code",
   "execution_count": null,
   "metadata": {},
   "outputs": [],
   "source": []
  }
 ],
 "metadata": {
  "kernelspec": {
   "display_name": "Python 3",
   "language": "python",
   "name": "python3"
  },
  "language_info": {
   "codemirror_mode": {
    "name": "ipython",
    "version": 3
   },
   "file_extension": ".py",
   "mimetype": "text/x-python",
   "name": "python",
   "nbconvert_exporter": "python",
   "pygments_lexer": "ipython3",
   "version": "3.7.7"
  }
 },
 "nbformat": 4,
 "nbformat_minor": 4
}
