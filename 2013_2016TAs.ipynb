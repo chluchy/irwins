{
 "cells": [
  {
   "cell_type": "code",
   "execution_count": 1,
   "metadata": {},
   "outputs": [],
   "source": [
    "import pandas as pd\n",
    "import numpy as np\n",
    "import os\n",
    "import datetime\n",
    "import strgen\n",
    "%config IPCompleter.greedy=True"
   ]
  },
  {
   "cell_type": "code",
   "execution_count": 2,
   "metadata": {},
   "outputs": [
    {
     "data": {
      "text/plain": [
       "['.ipynb_checkpoints',\n",
       " '2013_2016TAs.ipynb',\n",
       " 'CEC_2018.ipynb',\n",
       " 'DailyWO.csv',\n",
       " 'Enmax_Shepherd.ipynb',\n",
       " 'hist_TAs.ipynb',\n",
       " 'sheerness_2017.ipynb',\n",
       " 'ShepDaily.csv']"
      ]
     },
     "execution_count": 2,
     "metadata": {},
     "output_type": "execute_result"
    }
   ],
   "source": [
    "path = os.getcwd()\n",
    "os.listdir()"
   ]
  },
  {
   "cell_type": "code",
   "execution_count": 3,
   "metadata": {},
   "outputs": [],
   "source": [
    "path = \"C:\\\\Users\\\\chris\\\\OneDrive - Irwin's Safety and Industrial Labour Services Ltd\\\\Irwins\"\n",
    "raw = pd.read_csv(path+'\\\\raw_inputs\\\\Total Validated Data-2013-2016.csv')\n",
    "raw.columns\n",
    "raw['clean_date'] = pd.to_datetime(raw['Date.(M/D/YY)'],dayfirst=True)\n",
    "raw['csas_id']=strgen.StringGenerator(\"[\\d]{10}\").render_list(len(raw),unique=True)"
   ]
  },
  {
   "cell_type": "code",
   "execution_count": 4,
   "metadata": {},
   "outputs": [],
   "source": [
    "df = raw[['csas_id','clean_date', 'Code.of.Practice', 'SHIFT.D/N', 'TOTAL.#.OF.CREW',\n",
    "       'Idle.Time.(min)', 'Down.Time.(min)', 'Wait.Time.(min)',\n",
    "       'Tool.Time.(min)','company', 'project',\n",
    "       'Year','Idle_Code', 'Down_Code', 'Wait_Code']]"
   ]
  },
  {
   "cell_type": "code",
   "execution_count": 5,
   "metadata": {},
   "outputs": [],
   "source": [
    "df.columns=['csas_id','clean_date', 'Code of Practice', 'Shift', 'Number of Crews',\n",
    "       'Idle.Time.(min)', 'Down.Time.(min)', 'Wait.Time.(min)',\n",
    "       'Tool.Time.(min)','company', 'project',\n",
    "       'year','Idle_Code', 'Down_Code', 'Wait_Code']"
   ]
  },
  {
   "cell_type": "code",
   "execution_count": 6,
   "metadata": {},
   "outputs": [
    {
     "data": {
      "text/html": [
       "<div>\n",
       "<style scoped>\n",
       "    .dataframe tbody tr th:only-of-type {\n",
       "        vertical-align: middle;\n",
       "    }\n",
       "\n",
       "    .dataframe tbody tr th {\n",
       "        vertical-align: top;\n",
       "    }\n",
       "\n",
       "    .dataframe thead th {\n",
       "        text-align: right;\n",
       "    }\n",
       "</style>\n",
       "<table border=\"1\" class=\"dataframe\">\n",
       "  <thead>\n",
       "    <tr style=\"text-align: right;\">\n",
       "      <th></th>\n",
       "      <th>0</th>\n",
       "    </tr>\n",
       "  </thead>\n",
       "  <tbody>\n",
       "    <tr>\n",
       "      <th>0</th>\n",
       "      <td>csas_id</td>\n",
       "    </tr>\n",
       "    <tr>\n",
       "      <th>1</th>\n",
       "      <td>clean_date</td>\n",
       "    </tr>\n",
       "    <tr>\n",
       "      <th>2</th>\n",
       "      <td>Code of Practice</td>\n",
       "    </tr>\n",
       "    <tr>\n",
       "      <th>3</th>\n",
       "      <td>Shift</td>\n",
       "    </tr>\n",
       "    <tr>\n",
       "      <th>4</th>\n",
       "      <td>Number of Crews</td>\n",
       "    </tr>\n",
       "    <tr>\n",
       "      <th>5</th>\n",
       "      <td>Idle.Time.(min)</td>\n",
       "    </tr>\n",
       "    <tr>\n",
       "      <th>6</th>\n",
       "      <td>Down.Time.(min)</td>\n",
       "    </tr>\n",
       "    <tr>\n",
       "      <th>7</th>\n",
       "      <td>Wait.Time.(min)</td>\n",
       "    </tr>\n",
       "    <tr>\n",
       "      <th>8</th>\n",
       "      <td>Tool.Time.(min)</td>\n",
       "    </tr>\n",
       "    <tr>\n",
       "      <th>9</th>\n",
       "      <td>company</td>\n",
       "    </tr>\n",
       "    <tr>\n",
       "      <th>10</th>\n",
       "      <td>project</td>\n",
       "    </tr>\n",
       "    <tr>\n",
       "      <th>11</th>\n",
       "      <td>year</td>\n",
       "    </tr>\n",
       "    <tr>\n",
       "      <th>12</th>\n",
       "      <td>Idle_Code</td>\n",
       "    </tr>\n",
       "    <tr>\n",
       "      <th>13</th>\n",
       "      <td>Down_Code</td>\n",
       "    </tr>\n",
       "    <tr>\n",
       "      <th>14</th>\n",
       "      <td>Wait_Code</td>\n",
       "    </tr>\n",
       "  </tbody>\n",
       "</table>\n",
       "</div>"
      ],
      "text/plain": [
       "                   0\n",
       "0            csas_id\n",
       "1         clean_date\n",
       "2   Code of Practice\n",
       "3              Shift\n",
       "4    Number of Crews\n",
       "5    Idle.Time.(min)\n",
       "6    Down.Time.(min)\n",
       "7    Wait.Time.(min)\n",
       "8    Tool.Time.(min)\n",
       "9            company\n",
       "10           project\n",
       "11              year\n",
       "12         Idle_Code\n",
       "13         Down_Code\n",
       "14         Wait_Code"
      ]
     },
     "execution_count": 6,
     "metadata": {},
     "output_type": "execute_result"
    }
   ],
   "source": [
    "pd.DataFrame(list(df.columns))"
   ]
  },
  {
   "cell_type": "code",
   "execution_count": 7,
   "metadata": {},
   "outputs": [],
   "source": [
    "li = []\n",
    "timephase_dict = {0:'StartLessOpen',1:'OpenLessArriv',2:'ArrivLessSched',3:'StopLessStart'}\n",
    "for i in range(5,9):\n",
    "    if i == 8:\n",
    "        colnums = [0,1,2,3,4,8,9,10,11]\n",
    "        mydf = df.iloc[:,colnums].copy()\n",
    "        mydf['Tool_Code'] = \"\"\n",
    "    else:\n",
    "        colnums = [0,1,2,3,4,i,9,10,11,i+7]\n",
    "        mydf = df.iloc[:,colnums].copy()\n",
    "    mydf['time_phase'] = i-5\n",
    "    mydf['time_phase'] = mydf['time_phase'].map(timephase_dict)\n",
    "    mydf.head()\n",
    "    # re-name columns\n",
    "    mydf.columns = ['csas_id','clean_date', 'Code of Practice', 'Shift', 'Number of Crews',\n",
    "       'duration', 'company', 'project', 'year', 'WT/DT Cause Code',\n",
    "       'time_phase']\n",
    "    mydf['duration']=mydf['duration']/60\n",
    "    li.append(mydf)"
   ]
  },
  {
   "cell_type": "code",
   "execution_count": 8,
   "metadata": {},
   "outputs": [],
   "source": [
    "hist_stack = pd.concat(li)\n",
    "hist_stack['Number of Crews'].replace('4+',4,inplace=True)\n",
    "hist_stack['Number of Crews']=hist_stack['Number of Crews'].astype('float')"
   ]
  },
  {
   "cell_type": "code",
   "execution_count": 9,
   "metadata": {},
   "outputs": [
    {
     "name": "stdout",
     "output_type": "stream",
     "text": [
      "<class 'pandas.core.frame.DataFrame'>\n",
      "Int64Index: 20044 entries, 0 to 5010\n",
      "Data columns (total 11 columns):\n",
      " #   Column            Non-Null Count  Dtype         \n",
      "---  ------            --------------  -----         \n",
      " 0   csas_id           20044 non-null  object        \n",
      " 1   clean_date        20044 non-null  datetime64[ns]\n",
      " 2   Code of Practice  20044 non-null  object        \n",
      " 3   Shift             19516 non-null  object        \n",
      " 4   Number of Crews   19992 non-null  float64       \n",
      " 5   duration          19910 non-null  float64       \n",
      " 6   company           20044 non-null  object        \n",
      " 7   project           20044 non-null  object        \n",
      " 8   year              20044 non-null  int64         \n",
      " 9   WT/DT Cause Code  20041 non-null  object        \n",
      " 10  time_phase        20044 non-null  object        \n",
      "dtypes: datetime64[ns](1), float64(2), int64(1), object(7)\n",
      "memory usage: 1.8+ MB\n"
     ]
    }
   ],
   "source": [
    "hist_stack.info()"
   ]
  },
  {
   "cell_type": "code",
   "execution_count": 10,
   "metadata": {},
   "outputs": [
    {
     "data": {
      "text/plain": [
       "SB      1377\n",
       "GT       820\n",
       "S        582\n",
       "CD       370\n",
       "C        222\n",
       "EF        50\n",
       "NW        23\n",
       "PE        19\n",
       "L         13\n",
       "I          7\n",
       "XRAY       7\n",
       "AA         2\n",
       "D          2\n",
       "EV         1\n",
       "Name: WT/DT Cause Code, dtype: int64"
      ]
     },
     "execution_count": 10,
     "metadata": {},
     "output_type": "execute_result"
    }
   ],
   "source": [
    "hist_stack['WT/DT Cause Code'].replace('0',np.nan,inplace=True)\n",
    "hist_stack['WT/DT Cause Code'].replace('',np.nan,inplace=True)\n",
    "hist_stack['WT/DT Cause Code'].replace('GT/TB','GT',inplace=True)\n",
    "hist_stack['WT/DT Cause Code'] = hist_stack['WT/DT Cause Code'].str.strip()\n",
    "hist_stack['WT/DT Cause Code'].value_counts()"
   ]
  },
  {
   "cell_type": "code",
   "execution_count": 11,
   "metadata": {},
   "outputs": [],
   "source": [
    "# Create a new columns that picks nonwork code based on cause code and not phase\n",
    "condlist = [(hist_stack['time_phase']=='StopLessStart') & (hist_stack['duration']!=0),\n",
    "             hist_stack['WT/DT Cause Code'].isin(['GT','C','EF','L']),\n",
    "             hist_stack['WT/DT Cause Code'].isin(['EV','PE','CD','ME','V','IN']),\n",
    "             hist_stack['WT/DT Cause Code'].isin(['S','NW','I','SB','AA']),\n",
    "            (pd.isnull(hist_stack['WT/DT Cause Code']))&(hist_stack['duration']!=0)\n",
    "           ]\n",
    "choicelist = ['tool_time','wait_time','down_time','idle_time','nonwork_time']\n",
    "hist_stack['code_phase'] = np.select(condlist,choicelist)\n",
    "hist_stack['code_phase'].replace('0',np.nan,inplace=True)\n",
    "# replace an entry of 'Shift' with day "
   ]
  },
  {
   "cell_type": "code",
   "execution_count": 12,
   "metadata": {},
   "outputs": [],
   "source": [
    "hist_stack['person_hours'] = hist_stack['duration']*hist_stack['Number of Crews']"
   ]
  },
  {
   "cell_type": "code",
   "execution_count": 13,
   "metadata": {},
   "outputs": [
    {
     "name": "stdout",
     "output_type": "stream",
     "text": [
      "<class 'pandas.core.frame.DataFrame'>\n",
      "Int64Index: 20044 entries, 0 to 5010\n",
      "Data columns (total 13 columns):\n",
      " #   Column            Non-Null Count  Dtype         \n",
      "---  ------            --------------  -----         \n",
      " 0   csas_id           20044 non-null  object        \n",
      " 1   clean_date        20044 non-null  datetime64[ns]\n",
      " 2   Code of Practice  20044 non-null  object        \n",
      " 3   Shift             19516 non-null  object        \n",
      " 4   Number of Crews   19992 non-null  float64       \n",
      " 5   duration          19910 non-null  float64       \n",
      " 6   company           20044 non-null  object        \n",
      " 7   project           20044 non-null  object        \n",
      " 8   year              20044 non-null  int64         \n",
      " 9   WT/DT Cause Code  3495 non-null   object        \n",
      " 10  time_phase        20044 non-null  object        \n",
      " 11  code_phase        11579 non-null  object        \n",
      " 12  person_hours      19864 non-null  float64       \n",
      "dtypes: datetime64[ns](1), float64(3), int64(1), object(8)\n",
      "memory usage: 2.1+ MB\n"
     ]
    }
   ],
   "source": [
    "hist_stack.to_csv(path+'\\\\output\\\\2013_2016.csv',index=False)\n",
    "hist_stack.info()"
   ]
  },
  {
   "cell_type": "code",
   "execution_count": 14,
   "metadata": {},
   "outputs": [
    {
     "data": {
      "text/plain": [
       "SB      1377\n",
       "GT       820\n",
       "S        582\n",
       "CD       370\n",
       "C        222\n",
       "EF        50\n",
       "NW        23\n",
       "PE        19\n",
       "L         13\n",
       "I          7\n",
       "XRAY       7\n",
       "AA         2\n",
       "D          2\n",
       "EV         1\n",
       "Name: WT/DT Cause Code, dtype: int64"
      ]
     },
     "execution_count": 14,
     "metadata": {},
     "output_type": "execute_result"
    }
   ],
   "source": [
    "hist_stack['WT/DT Cause Code'].value_counts()"
   ]
  },
  {
   "cell_type": "code",
   "execution_count": null,
   "metadata": {},
   "outputs": [],
   "source": []
  }
 ],
 "metadata": {
  "kernelspec": {
   "display_name": "Python 3",
   "language": "python",
   "name": "python3"
  },
  "language_info": {
   "codemirror_mode": {
    "name": "ipython",
    "version": 3
   },
   "file_extension": ".py",
   "mimetype": "text/x-python",
   "name": "python",
   "nbconvert_exporter": "python",
   "pygments_lexer": "ipython3",
   "version": "3.7.7"
  }
 },
 "nbformat": 4,
 "nbformat_minor": 4
}
