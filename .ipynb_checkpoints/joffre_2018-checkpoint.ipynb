{
 "cells": [
  {
   "cell_type": "code",
   "execution_count": 1,
   "metadata": {},
   "outputs": [],
   "source": [
    "!jt -t oceans16"
   ]
  },
  {
   "cell_type": "markdown",
   "metadata": {},
   "source": [
    "### Read in Libraries and Raw Files"
   ]
  },
  {
   "cell_type": "code",
   "execution_count": 2,
   "metadata": {},
   "outputs": [],
   "source": [
    "import pandas as pd\n",
    "import numpy as np\n",
    "import os\n",
    "import datetime as dt\n",
    "import strgen\n",
    "%config IPCompleter.greedy=True"
   ]
  },
  {
   "cell_type": "code",
   "execution_count": 3,
   "metadata": {},
   "outputs": [
    {
     "name": "stdout",
     "output_type": "stream",
     "text": [
      "C:\\Users\\chris\\OneDrive - Irwin's Safety and Industrial Labour Services Ltd\\Irwins\\python_scripts\n"
     ]
    },
    {
     "data": {
      "text/plain": [
       "['AutomatedForm-V6 - SH1 - 03.13.2018.xlsm',\n",
       " 'CEC-2018-Analytics.xlsm',\n",
       " 'Enmax Shepard-April-2018.xlsm',\n",
       " 'Joffre - V6 - March 2018 - 13.03.2018.xlsm',\n",
       " 'Total Validated Data-2013-2016.csv']"
      ]
     },
     "execution_count": 3,
     "metadata": {},
     "output_type": "execute_result"
    }
   ],
   "source": [
    "print(os.getcwd())\n",
    "os.listdir(\"C:\\\\Users\\\\chris\\\\OneDrive - Irwin's Safety and Industrial Labour Services Ltd\\\\Irwins\\\\raw_inputs\")"
   ]
  },
  {
   "cell_type": "code",
   "execution_count": 4,
   "metadata": {},
   "outputs": [],
   "source": [
    "path = \"C:\\\\Users\\\\chris\\\\OneDrive - Irwin's Safety and Industrial Labour Services Ltd\\\\Irwins\""
   ]
  },
  {
   "cell_type": "code",
   "execution_count": 5,
   "metadata": {},
   "outputs": [
    {
     "data": {
      "text/plain": [
       "0     2018-09-03 00:00:00\n",
       "1     2018-09-03 00:00:00\n",
       "2     2018-09-03 00:00:00\n",
       "3     2018-09-03 00:00:00\n",
       "4     2018-09-03 00:00:00\n",
       "             ...         \n",
       "59    2018-11-03 00:00:00\n",
       "60    2018-10-03 00:00:00\n",
       "61    2018-10-03 00:00:00\n",
       "62    2018-12-03 00:00:00\n",
       "63             2018-13-03\n",
       "Name: Date, Length: 64, dtype: object"
      ]
     },
     "execution_count": 5,
     "metadata": {},
     "output_type": "execute_result"
    }
   ],
   "source": [
    "joffre_raw = pd.read_excel(path+'\\\\raw_inputs\\\\Joffre - V6 - March 2018 - 13.03.2018.xlsm',\n",
    "                           'DataBase_Clean', parse_dates = True, dayfirst=False)\n",
    "joffre_raw['Date']"
   ]
  },
  {
   "cell_type": "code",
   "execution_count": 29,
   "metadata": {},
   "outputs": [],
   "source": [
    "joffre_raw['csas_id']=strgen.StringGenerator(\"[\\d]{10}\").render_list(len(joffre_raw),unique=True)"
   ]
  },
  {
   "cell_type": "markdown",
   "metadata": {},
   "source": [
    "### Define Functions that will fill in blank values and transform excel files to more useful formats"
   ]
  },
  {
   "cell_type": "code",
   "execution_count": 7,
   "metadata": {},
   "outputs": [],
   "source": [
    "def dateconvert(mydate):\n",
    "    \"\"\" If excel file is incorrectly read as YYYY-MM-DD and should be YYYY-DD-MM, rearranges to correct format in text.\n",
    "    This then allows the text to be converted back to datetime\n",
    "    \"\"\"\n",
    "    if isinstance(mydate, dt.datetime):\n",
    "        ret_date =  dt.datetime.strftime(mydate, '%Y-%m-%d')\n",
    "    else:\n",
    "        ret_date = mydate\n",
    "    return dt.datetime.strptime(ret_date,'%Y-%d-%m')"
   ]
  },
  {
   "cell_type": "code",
   "execution_count": 8,
   "metadata": {},
   "outputs": [],
   "source": [
    "def timeconvert(x):\n",
    "    \"\"\" Converts datetime.time to datetime.timedelta so that times can be differenced \n",
    "    to calculate durations\"\"\"\n",
    "    if isinstance(x,dt.time):\n",
    "        x = dt.timedelta(hours=x.hour, minutes=x.minute, \n",
    "                               seconds=x.second, microseconds=x.microsecond)\n",
    "        return x\n",
    "    else:\n",
    "        return pd.NaT"
   ]
  },
  {
   "cell_type": "code",
   "execution_count": 9,
   "metadata": {},
   "outputs": [
    {
     "data": {
      "text/plain": [
       "2018-03-06    12\n",
       "2018-03-07    10\n",
       "2018-03-05     9\n",
       "2018-03-09     7\n",
       "2018-03-11     5\n",
       "2018-03-04     5\n",
       "2018-03-10     5\n",
       "2018-03-08     4\n",
       "2018-03-03     3\n",
       "2018-03-12     3\n",
       "2018-03-13     1\n",
       "Name: clean_date, dtype: int64"
      ]
     },
     "execution_count": 9,
     "metadata": {},
     "output_type": "execute_result"
    }
   ],
   "source": [
    "# Create new dataframe to allow for cleaning\n",
    "joffre_clean = joffre_raw.copy()\n",
    "joffre_clean['clean_date']=pd.to_datetime(joffre_clean['Date'].map(dateconvert))\n",
    "joffre_clean['clean_date'].value_counts()"
   ]
  },
  {
   "cell_type": "markdown",
   "metadata": {},
   "source": [
    "### The following four functions populate end times for No Work Periods, using either the start of the next phase or a two hours window."
   ]
  },
  {
   "cell_type": "code",
   "execution_count": 10,
   "metadata": {},
   "outputs": [],
   "source": [
    "def fill_nw1 (row):\n",
    "    \"\"\" This function deals with instances where a NW code has been entered but there's no obvious way \n",
    "    to calculate the duration of 'no work'. This is specifically for the first portion of the day \"\"\"\n",
    "    if pd.isnull(row['Work Start1']) and row['WT/DT Cause Code1']==\"NW (IT)\":\n",
    "        if pd.notnull(row['ScheduledST2']):\n",
    "            time =  row['ScheduledST2']\n",
    "        elif pd.notnull(row['Space Open1']):\n",
    "            time = (dt.datetime.combine(dt.date(1,1,1),row['Space Open1']) + \n",
    "                    dt.timedelta(hours=2)).time()\n",
    "        else:\n",
    "            time = pd.NaT\n",
    "    else:\n",
    "        time =  row['Work Start1']\n",
    "    return time\n",
    "    "
   ]
  },
  {
   "cell_type": "code",
   "execution_count": 11,
   "metadata": {},
   "outputs": [],
   "source": [
    "def fill_nw2 (row):\n",
    "    if pd.isnull(row['Work Start2']) and row['WT/DT Cause Code2']==\"NW (IT)\":\n",
    "        if pd.notnull(row['ScheduledST3']):\n",
    "            time =  row['ScheduledST3']\n",
    "        elif pd.notnull(row['Space Open2']):\n",
    "            time = (dt.datetime.combine(dt.date(1,1,1),row['Space Open2']) + \n",
    "                    dt.timedelta(hours=2)).time()\n",
    "        else:\n",
    "            time = pd.NaT\n",
    "    else:\n",
    "        time =  row['Work Start2']\n",
    "    return time\n",
    "    "
   ]
  },
  {
   "cell_type": "code",
   "execution_count": 12,
   "metadata": {},
   "outputs": [],
   "source": [
    "def fill_nw3 (row):\n",
    "    if pd.isnull(row['Work Start3']) and row['WT/DT Cause Code3']==\"NW (IT)\":\n",
    "        if pd.notnull(row['ScheduledST4']):\n",
    "            time =  row['ScheduledST4']\n",
    "        elif pd.notnull(row['Space Open3']):\n",
    "            time = (dt.datetime.combine(dt.date(1,1,1),row['Space Open3']) + \n",
    "                    dt.timedelta(hours=2)).time()\n",
    "        else:\n",
    "            time = pd.NaT\n",
    "    else:\n",
    "        time =  row['Work Start3']\n",
    "    return time\n",
    "    "
   ]
  },
  {
   "cell_type": "code",
   "execution_count": 13,
   "metadata": {},
   "outputs": [],
   "source": [
    "def fill_nw4 (row):\n",
    "    if pd.isnull(row['Work Start4']) and row['WT/DT Cause Code4']==\"NW (IT)\":\n",
    "        if pd.notnull(row['ScheduledST5']):\n",
    "            time =  row['ScheduledST5']\n",
    "        elif pd.notnull(row['Space Open4']):\n",
    "            time = (dt.datetime.combine(dt.date(1,1,1),row['Space Open4']) + \n",
    "                    dt.timedelta(hours=2)).time()\n",
    "        else:\n",
    "            time = pd.NaT\n",
    "    else:\n",
    "        time =  row['Work Start4']\n",
    "    return time\n",
    "    "
   ]
  },
  {
   "cell_type": "code",
   "execution_count": 14,
   "metadata": {},
   "outputs": [],
   "source": [
    "joffre_clean['Work Start1'] = joffre_clean.apply(fill_nw1,axis=1)\n",
    "joffre_clean['Work Start2'] = joffre_clean.apply(fill_nw2,axis=1)\n",
    "joffre_clean['Work Start3'] = joffre_clean.apply(fill_nw3,axis=1)\n",
    "joffre_clean['Work Start4'] = joffre_clean.apply(fill_nw4,axis=1)"
   ]
  },
  {
   "cell_type": "markdown",
   "metadata": {},
   "source": [
    "### Next, use cause codes to determine what time interval should be used to calculate non work time and tool time"
   ]
  },
  {
   "cell_type": "code",
   "execution_count": 15,
   "metadata": {},
   "outputs": [],
   "source": [
    "def duration_calc(row):\n",
    "    ''' This function takes the cause codes and uses them to determine what time interval \n",
    "    to use to calculate non work time'''\n",
    "    start_time = pd.NaT\n",
    "    stop_time = pd.NaT\n",
    "    duration = pd.NaT\n",
    "    time_phase = np.nan\n",
    "    code_phase = np.nan\n",
    "    if (row['WT/DT Cause Code']=='EF'or row['WT/DT Cause Code']=='C'or row['WT/DT Cause Code']=='L'):\n",
    "        start_time = row['ScheduledST']\n",
    "        stop_time = row['Attendant Arrival'] \n",
    "        time_phase = 'ArrivLessSched'\n",
    "        code_phase = 'wait_time'\n",
    "    \n",
    "    if row['WT/DT Cause Code']=='GT':\n",
    "        start_time = row['Attendant Arrival']\n",
    "        stop_time = row['Space Open']\n",
    "        time_phase = 'OpenLessArriv'\n",
    "        code_phase = 'wait_time'\n",
    "\n",
    "    if (row['WT/DT Cause Code']=='CD' or row['WT/DT Cause Code']=='IN' or row['WT/DT Cause Code']=='PE'\n",
    "        or row['WT/DT Cause Code']=='V'):\n",
    "        if pd.isnull(row['Space Open']):\n",
    "            start_time = row['ScheduledST']\n",
    "            stop_time = row['Attendant Arrival'] \n",
    "            time_phase = 'ArrivLessSched'\n",
    "            code_phase = 'down_time'\n",
    "        else:\n",
    "            start_time = row['ScheduledST']\n",
    "            stop_time= row['Space Open']\n",
    "            time_phase = 'OpenLessSched'\n",
    "            code_phase = 'down_time'\n",
    "            \n",
    "    if (row['WT/DT Cause Code']=='SB' or row['WT/DT Cause Code']=='S' or row['WT/DT Cause Code']=='I'\n",
    "        or row['WT/DT Cause Code']=='NW'):\n",
    "        start_time = row['Space Open']\n",
    "        stop_time = row['Work Start']\n",
    "        time_phase = 'StartLessOpen'\n",
    "        code_phase = 'idle_time'\n",
    "    if start_time > stop_time:\n",
    "        duration=pd.NaT\n",
    "    else:\n",
    "        duration = stop_time - start_time\n",
    "    return (start_time, stop_time,duration, time_phase, code_phase)"
   ]
  },
  {
   "cell_type": "code",
   "execution_count": 16,
   "metadata": {},
   "outputs": [],
   "source": [
    "def duration_calc_other(row):\n",
    "    ''' This function takes other intervals that are not coded, calculates duration, and assigns a \n",
    "    generic time code'''\n",
    "    start_time = pd.NaT\n",
    "    stop_time = pd.NaT\n",
    "    duration = pd.NaT\n",
    "    time_phase = np.nan\n",
    "    code_phase = np.nan\n",
    "    if (row['WT/DT Cause Code']=='EF'or row['WT/DT Cause Code']=='C'or row['WT/DT Cause Code']=='L' or\n",
    "        row['WT/DT Cause Code']=='GT' or row['WT/DT Cause Code']=='CD' or row['WT/DT Cause Code']=='IN' or \n",
    "        row['WT/DT Cause Code']=='PE'or row['WT/DT Cause Code']=='V'):\n",
    "            start_time = row['Space Open']\n",
    "            stop_time = row['Work Start'] \n",
    "            time_phase = 'StartLessOpen'\n",
    "            code_phase = 'nonwork_time'\n",
    "            \n",
    "    if (row['WT/DT Cause Code']=='SB' or row['WT/DT Cause Code']=='S' or row['WT/DT Cause Code']=='I'\n",
    "        or row['WT/DT Cause Code']=='NW'):\n",
    "        start_time = row['ScheduledST']\n",
    "        stop_time = row['Space Open']\n",
    "        time_phase = 'OpenLessSched'\n",
    "        code_phase = 'nonwork_time'\n",
    "    if start_time > stop_time:\n",
    "        duration=pd.NaT\n",
    "    else:\n",
    "        duration = stop_time - start_time\n",
    "    return (start_time, stop_time,duration, time_phase, code_phase)"
   ]
  },
  {
   "cell_type": "code",
   "execution_count": 17,
   "metadata": {},
   "outputs": [],
   "source": [
    "def duration_calc_blank_it(row):\n",
    "    ''' This function takes other intervals that are not coded, calculates duration, and assigns a \n",
    "    generic time code'''\n",
    "    start_time = pd.NaT\n",
    "    stop_time = pd.NaT\n",
    "    duration = pd.NaT\n",
    "    time_phase = np.nan\n",
    "    code_phase = np.nan\n",
    "    if pd.isnull(row['WT/DT Cause Code']):\n",
    "            start_time = row['Space Open']\n",
    "            stop_time = row['Work Start'] \n",
    "            time_phase = 'StartLessOpen'\n",
    "            code_phase = 'nonwork_time'\n",
    "    if start_time > stop_time:\n",
    "        duration=pd.NaT\n",
    "    else:\n",
    "        duration = stop_time - start_time\n",
    "    return (start_time, stop_time,duration, time_phase, code_phase)"
   ]
  },
  {
   "cell_type": "code",
   "execution_count": 18,
   "metadata": {},
   "outputs": [],
   "source": [
    "def duration_calc_blank_wtdt(row):\n",
    "    ''' This function takes other intervals that are not coded, calculates duration, and assigns a \n",
    "    generic time code'''\n",
    "    start_time = pd.NaT\n",
    "    stop_time = pd.NaT\n",
    "    duration = pd.NaT\n",
    "    time_phase = np.nan\n",
    "    code_phase = np.nan\n",
    "    if pd.isnull(row['WT/DT Cause Code']):\n",
    "            start_time = row['ScheduledST']\n",
    "            stop_time = row['Space Open'] \n",
    "            time_phase = 'OpenLessSched'\n",
    "            code_phase = 'nonwork_time'\n",
    "    if start_time > stop_time:\n",
    "        duration=pd.NaT\n",
    "    else:\n",
    "        duration = stop_time - start_time\n",
    "    return (start_time, stop_time,duration, time_phase, code_phase)"
   ]
  },
  {
   "cell_type": "code",
   "execution_count": 30,
   "metadata": {},
   "outputs": [],
   "source": [
    "def non_work_transform(mydf):\n",
    "    mydf['WT/DT Cause Code'] = mydf['WT/DT Cause Code'].str.split(\" \").str[0]\n",
    "    # Apply the first function\n",
    "    df1 = mydf.copy()\n",
    "    tempdf = df1.apply(duration_calc,axis=1,result_type='expand')\n",
    "    df1['start_time'] = tempdf.iloc[:,0]\n",
    "    df1['stop_time'] = tempdf.iloc[:,1]\n",
    "    df1['duration'] = tempdf.iloc[:,2]\n",
    "    df1['time_phase']= tempdf.iloc[:,3]\n",
    "    df1['code_phase'] = tempdf.iloc[:,4]\n",
    "    df1 = df1[['csas_id','Work Order', 'Code of Practice', 'Work Areas', 'Facility',\n",
    "       'clean_date', 'Number of Crews', 'Shift', 'start_phase','time_phase', 'start_time','stop_time',\n",
    "       'duration', 'WT/DT Cause Code', 'Note','code_phase' ]]\n",
    "    # Second Function\n",
    "    df2 = mydf.copy()\n",
    "    tempdf = df2.apply(duration_calc_other,axis=1,result_type='expand')\n",
    "    df2['start_time'] = tempdf.iloc[:,0]\n",
    "    df2['stop_time'] = tempdf.iloc[:,1]\n",
    "    df2['duration'] = tempdf.iloc[:,2]\n",
    "    df2['time_phase']= tempdf.iloc[:,3]\n",
    "    df2['code_phase'] = tempdf.iloc[:,4]\n",
    "    df2 = df2[['csas_id','Work Order', 'Code of Practice', 'Work Areas', 'Facility',\n",
    "       'clean_date', 'Number of Crews', 'Shift', 'start_phase','time_phase', 'start_time','stop_time',\n",
    "       'duration', 'code_phase' ]]\n",
    "    # Third Function\n",
    "    df3 = mydf.copy()\n",
    "    tempdf = df3.apply(duration_calc_blank_it,axis=1,result_type='expand')\n",
    "    df3['start_time'] = tempdf.iloc[:,0]\n",
    "    df3['stop_time'] = tempdf.iloc[:,1]\n",
    "    df3['duration'] = tempdf.iloc[:,2]\n",
    "    df3['time_phase']= tempdf.iloc[:,3]\n",
    "    df3['code_phase'] = tempdf.iloc[:,4]\n",
    "    df3 = df3[['csas_id','Work Order', 'Code of Practice', 'Work Areas', 'Facility',\n",
    "       'clean_date', 'Number of Crews', 'Shift', 'start_phase','time_phase', 'start_time','stop_time',\n",
    "       'duration', 'code_phase' ]]\n",
    "    # Fourth Function\n",
    "    df4 = mydf.copy()\n",
    "    tempdf = df4.apply(duration_calc_blank_wtdt,axis=1,result_type='expand')\n",
    "    df4['start_time'] = tempdf.iloc[:,0]\n",
    "    df4['stop_time'] = tempdf.iloc[:,1]\n",
    "    df4['duration'] = tempdf.iloc[:,2]\n",
    "    df4['time_phase']= tempdf.iloc[:,3]\n",
    "    df4['code_phase'] = tempdf.iloc[:,4]\n",
    "    df4 = df4[['csas_id','Work Order', 'Code of Practice', 'Work Areas', 'Facility',\n",
    "       'clean_date', 'Number of Crews', 'Shift', 'start_phase','time_phase', 'start_time','stop_time',\n",
    "       'duration' ,'code_phase' ]]\n",
    "    return pd.concat([df1,df2,df3,df4])"
   ]
  },
  {
   "cell_type": "code",
   "execution_count": 31,
   "metadata": {},
   "outputs": [],
   "source": [
    "def tool_time_transform(mydf_2):\n",
    "    mydf_2['start_time'] = mydf_2['Work Start']\n",
    "    mydf_2['stop_time'] = mydf_2['Work Stop']\n",
    "    mydf_2['duration'] = mydf_2['tool_time']\n",
    "    mydf_2['WT/DT Cause Code'] = None\n",
    "    mydf_2['Note'] = None\n",
    "    mydf_2['time_phase'] = 'StopLessStart'\n",
    "    mydf_2['code_phase'] = 'tool_time'\n",
    "    mydf_2 = mydf_2[['csas_id','Work Order', 'Code of Practice', 'Work Areas', 'Facility',\n",
    "       'clean_date', 'Number of Crews', 'Shift', 'start_phase','time_phase', 'start_time','stop_time',\n",
    "       'duration', 'WT/DT Cause Code', 'Note','code_phase' ]]\n",
    "    return mydf_2"
   ]
  },
  {
   "cell_type": "code",
   "execution_count": 32,
   "metadata": {},
   "outputs": [],
   "source": [
    "rawdf = joffre_clean\n",
    "li = []\n",
    "starts = [1,2,3,4]\n",
    "phase = [0,1,2,3]\n",
    "index = ['csas_id','WorkOrder', 'Code of Practice', 'Work Areas', 'Facility','clean_date',\n",
    "           'Number of Crews', 'Shift']\n",
    "times_prefix = ['ScheduledST', 'Attendant Arrival',\n",
    "           'Space Open', 'Work Start', 'Work Stop']\n",
    "cause_prefix = ['WT/DT Cause Code','Cause Note']\n",
    "# There are 6 start in a given shift, accounting for breaks, etc.  Each CSA could have a max of 6 entries per work order in a shift\n",
    "for s in starts:\n",
    "    times = ['{}{}'.format(t, s) for t in times_prefix]\n",
    "    codes = ['{}{}'.format(c,s)  for c in cause_prefix]\n",
    "    cols = index + times + codes\n",
    "    df = rawdf[cols].copy()\n",
    "    df['start_phase'] = s\n",
    "    for i in range(8,13):\n",
    "        df.iloc[:,i] = df.iloc[:,i].map(timeconvert)\n",
    "        df.iloc[:,i] = np.where(df.iloc[:,i].dt.seconds<21600,df['clean_date']+df.iloc[:,i]+\n",
    "                                dt.timedelta(days=1),df['clean_date']+df.iloc[:,i])\n",
    "    df['delay0'] = np.where(((df.iloc[:,9]-df.iloc[:,8])<dt.timedelta(minutes = 0))\n",
    "                            &(df.iloc[:,8]!=\"\"),0,(df.iloc[:,9]-df.iloc[:,8]))\n",
    "    df['delay1'] = np.where(((df.iloc[:,10]-df.iloc[:,9])<dt.timedelta(minutes = 0))\n",
    "                            &(df.iloc[:,9]!=\"\"),0,(df.iloc[:,10]-df.iloc[:,9]))\n",
    "    df['delay2'] = np.where(((df.iloc[:,11]-df.iloc[:,10])<dt.timedelta(minutes = 0))\n",
    "                            &(df.iloc[:,10]!=\"\"),0,(df.iloc[:,11]-df.iloc[:,10]))\n",
    "    df['tool_time'] = np.where(((df.iloc[:,12]-df.iloc[:,11])<dt.timedelta(minutes = 0))\n",
    "                            &(df.iloc[:,11]!=\"\"),0,(df.iloc[:,12]-df.iloc[:,11]))\n",
    "    # Rename columns so can consistently manipulate\n",
    "    df.columns = ['csas_id','Work Order', 'Code of Practice', 'Work Areas', 'Facility', 'clean_date',\n",
    "       'Number of Crews', 'Shift', 'ScheduledST', 'Attendant Arrival',\n",
    "       'Space Open', 'Work Start', 'Work Stop', 'WT/DT Cause Code',\n",
    "       'Note', 'start_phase', 'delay0', 'delay1', 'delay2',\n",
    "       'tool_time']\n",
    "    df_tool_time = tool_time_transform(df.copy())\n",
    "    df_non_work = non_work_transform(df.copy())\n",
    "    li.append(df_tool_time)\n",
    "    li.append(df_non_work)\n",
    "#     li.append(df)"
   ]
  },
  {
   "cell_type": "code",
   "execution_count": 33,
   "metadata": {},
   "outputs": [],
   "source": [
    "def timedelta_to_hours(mytime):\n",
    "    ''' converts the duration column into hours'''\n",
    "    return mytime.seconds/3600"
   ]
  },
  {
   "cell_type": "code",
   "execution_count": 34,
   "metadata": {},
   "outputs": [],
   "source": [
    "# concatenate all individual dataframes\n",
    "joffre_stack = pd.concat(li).sort_values(['clean_date','Work Order','Work Areas'])\n",
    "# convert duration to hourly\n",
    "joffre_stack['duration']= joffre_stack['duration'].map(timedelta_to_hours)\n",
    "joffre_stack['person_hours']=joffre_stack['Number of Crews']*joffre_stack['duration']\n",
    "# add columns for company, project and year\n",
    "joffre_stack['company'] = 'Atco Power'\n",
    "joffre_stack['project']='Joffre'\n",
    "joffre_stack['year']= '2018'"
   ]
  },
  {
   "cell_type": "code",
   "execution_count": 35,
   "metadata": {},
   "outputs": [],
   "source": [
    "joffre_stack['code_phase'].value_counts()\n",
    "joffre_stack.to_csv(path+'\\\\output\\\\joffre_2018.csv',index=False)"
   ]
  },
  {
   "cell_type": "code",
   "execution_count": null,
   "metadata": {},
   "outputs": [],
   "source": []
  }
 ],
 "metadata": {
  "kernelspec": {
   "display_name": "Python 3",
   "language": "python",
   "name": "python3"
  },
  "language_info": {
   "codemirror_mode": {
    "name": "ipython",
    "version": 3
   },
   "file_extension": ".py",
   "mimetype": "text/x-python",
   "name": "python",
   "nbconvert_exporter": "python",
   "pygments_lexer": "ipython3",
   "version": "3.7.7"
  }
 },
 "nbformat": 4,
 "nbformat_minor": 4
}
